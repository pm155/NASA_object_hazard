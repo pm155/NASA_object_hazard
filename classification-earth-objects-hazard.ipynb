{
 "cells": [
  {
   "cell_type": "code",
   "execution_count": 1,
   "id": "75e4d473",
   "metadata": {
    "_cell_guid": "b1076dfc-b9ad-4769-8c92-a6c4dae69d19",
    "_uuid": "8f2839f25d086af736a60e9eeb907d3b93b6e0e5",
    "execution": {
     "iopub.execute_input": "2023-01-03T19:14:10.813806Z",
     "iopub.status.busy": "2023-01-03T19:14:10.812733Z",
     "iopub.status.idle": "2023-01-03T19:14:10.838002Z",
     "shell.execute_reply": "2023-01-03T19:14:10.836428Z"
    },
    "papermill": {
     "duration": 0.043698,
     "end_time": "2023-01-03T19:14:10.841846",
     "exception": false,
     "start_time": "2023-01-03T19:14:10.798148",
     "status": "completed"
    },
    "tags": []
   },
   "outputs": [
    {
     "name": "stdout",
     "output_type": "stream",
     "text": [
      "/kaggle/input/nasa-nearest-earth-objects/neo_v2.csv\n",
      "/kaggle/input/nasa-nearest-earth-objects/neo.csv\n"
     ]
    }
   ],
   "source": [
    "# This Python 3 environment comes with many helpful analytics libraries installed\n",
    "# It is defined by the kaggle/python Docker image: https://github.com/kaggle/docker-python\n",
    "# For example, here's several helpful packages to load\n",
    "\n",
    "import numpy as np # linear algebra\n",
    "import pandas as pd # data processing, CSV file I/O (e.g. pd.read_csv)\n",
    "\n",
    "# Input data files are available in the read-only \"../input/\" directory\n",
    "# For example, running this (by clicking run or pressing Shift+Enter) will list all files under the input directory\n",
    "\n",
    "import os\n",
    "for dirname, _, filenames in os.walk('/kaggle/input'):\n",
    "    for filename in filenames:\n",
    "        print(os.path.join(dirname, filename))\n",
    "\n",
    "# You can write up to 20GB to the current directory (/kaggle/working/) that gets preserved as output when you create a version using \"Save & Run All\" \n",
    "# You can also write temporary files to /kaggle/temp/, but they won't be saved outside of the current session"
   ]
  },
  {
   "cell_type": "code",
   "execution_count": 2,
   "id": "3e96ef74",
   "metadata": {
    "execution": {
     "iopub.execute_input": "2023-01-03T19:14:10.863627Z",
     "iopub.status.busy": "2023-01-03T19:14:10.863082Z",
     "iopub.status.idle": "2023-01-03T19:14:11.220068Z",
     "shell.execute_reply": "2023-01-03T19:14:11.218663Z"
    },
    "papermill": {
     "duration": 0.37109,
     "end_time": "2023-01-03T19:14:11.223325",
     "exception": false,
     "start_time": "2023-01-03T19:14:10.852235",
     "status": "completed"
    },
    "tags": []
   },
   "outputs": [
    {
     "data": {
      "text/html": [
       "<div>\n",
       "<style scoped>\n",
       "    .dataframe tbody tr th:only-of-type {\n",
       "        vertical-align: middle;\n",
       "    }\n",
       "\n",
       "    .dataframe tbody tr th {\n",
       "        vertical-align: top;\n",
       "    }\n",
       "\n",
       "    .dataframe thead th {\n",
       "        text-align: right;\n",
       "    }\n",
       "</style>\n",
       "<table border=\"1\" class=\"dataframe\">\n",
       "  <thead>\n",
       "    <tr style=\"text-align: right;\">\n",
       "      <th></th>\n",
       "      <th>id</th>\n",
       "      <th>name</th>\n",
       "      <th>est_diameter_min</th>\n",
       "      <th>est_diameter_max</th>\n",
       "      <th>relative_velocity</th>\n",
       "      <th>miss_distance</th>\n",
       "      <th>orbiting_body</th>\n",
       "      <th>sentry_object</th>\n",
       "      <th>absolute_magnitude</th>\n",
       "      <th>hazardous</th>\n",
       "    </tr>\n",
       "  </thead>\n",
       "  <tbody>\n",
       "    <tr>\n",
       "      <th>0</th>\n",
       "      <td>2162635</td>\n",
       "      <td>162635 (2000 SS164)</td>\n",
       "      <td>1.198271</td>\n",
       "      <td>2.679415</td>\n",
       "      <td>13569.249224</td>\n",
       "      <td>5.483974e+07</td>\n",
       "      <td>Earth</td>\n",
       "      <td>False</td>\n",
       "      <td>16.73</td>\n",
       "      <td>False</td>\n",
       "    </tr>\n",
       "    <tr>\n",
       "      <th>1</th>\n",
       "      <td>2277475</td>\n",
       "      <td>277475 (2005 WK4)</td>\n",
       "      <td>0.265800</td>\n",
       "      <td>0.594347</td>\n",
       "      <td>73588.726663</td>\n",
       "      <td>6.143813e+07</td>\n",
       "      <td>Earth</td>\n",
       "      <td>False</td>\n",
       "      <td>20.00</td>\n",
       "      <td>True</td>\n",
       "    </tr>\n",
       "    <tr>\n",
       "      <th>2</th>\n",
       "      <td>2512244</td>\n",
       "      <td>512244 (2015 YE18)</td>\n",
       "      <td>0.722030</td>\n",
       "      <td>1.614507</td>\n",
       "      <td>114258.692129</td>\n",
       "      <td>4.979872e+07</td>\n",
       "      <td>Earth</td>\n",
       "      <td>False</td>\n",
       "      <td>17.83</td>\n",
       "      <td>False</td>\n",
       "    </tr>\n",
       "    <tr>\n",
       "      <th>3</th>\n",
       "      <td>3596030</td>\n",
       "      <td>(2012 BV13)</td>\n",
       "      <td>0.096506</td>\n",
       "      <td>0.215794</td>\n",
       "      <td>24764.303138</td>\n",
       "      <td>2.543497e+07</td>\n",
       "      <td>Earth</td>\n",
       "      <td>False</td>\n",
       "      <td>22.20</td>\n",
       "      <td>False</td>\n",
       "    </tr>\n",
       "    <tr>\n",
       "      <th>4</th>\n",
       "      <td>3667127</td>\n",
       "      <td>(2014 GE35)</td>\n",
       "      <td>0.255009</td>\n",
       "      <td>0.570217</td>\n",
       "      <td>42737.733765</td>\n",
       "      <td>4.627557e+07</td>\n",
       "      <td>Earth</td>\n",
       "      <td>False</td>\n",
       "      <td>20.09</td>\n",
       "      <td>True</td>\n",
       "    </tr>\n",
       "    <tr>\n",
       "      <th>...</th>\n",
       "      <td>...</td>\n",
       "      <td>...</td>\n",
       "      <td>...</td>\n",
       "      <td>...</td>\n",
       "      <td>...</td>\n",
       "      <td>...</td>\n",
       "      <td>...</td>\n",
       "      <td>...</td>\n",
       "      <td>...</td>\n",
       "      <td>...</td>\n",
       "    </tr>\n",
       "    <tr>\n",
       "      <th>90831</th>\n",
       "      <td>3763337</td>\n",
       "      <td>(2016 VX1)</td>\n",
       "      <td>0.026580</td>\n",
       "      <td>0.059435</td>\n",
       "      <td>52078.886692</td>\n",
       "      <td>1.230039e+07</td>\n",
       "      <td>Earth</td>\n",
       "      <td>False</td>\n",
       "      <td>25.00</td>\n",
       "      <td>False</td>\n",
       "    </tr>\n",
       "    <tr>\n",
       "      <th>90832</th>\n",
       "      <td>3837603</td>\n",
       "      <td>(2019 AD3)</td>\n",
       "      <td>0.016771</td>\n",
       "      <td>0.037501</td>\n",
       "      <td>46114.605073</td>\n",
       "      <td>5.432121e+07</td>\n",
       "      <td>Earth</td>\n",
       "      <td>False</td>\n",
       "      <td>26.00</td>\n",
       "      <td>False</td>\n",
       "    </tr>\n",
       "    <tr>\n",
       "      <th>90833</th>\n",
       "      <td>54017201</td>\n",
       "      <td>(2020 JP3)</td>\n",
       "      <td>0.031956</td>\n",
       "      <td>0.071456</td>\n",
       "      <td>7566.807732</td>\n",
       "      <td>2.840077e+07</td>\n",
       "      <td>Earth</td>\n",
       "      <td>False</td>\n",
       "      <td>24.60</td>\n",
       "      <td>False</td>\n",
       "    </tr>\n",
       "    <tr>\n",
       "      <th>90834</th>\n",
       "      <td>54115824</td>\n",
       "      <td>(2021 CN5)</td>\n",
       "      <td>0.007321</td>\n",
       "      <td>0.016370</td>\n",
       "      <td>69199.154484</td>\n",
       "      <td>6.869206e+07</td>\n",
       "      <td>Earth</td>\n",
       "      <td>False</td>\n",
       "      <td>27.80</td>\n",
       "      <td>False</td>\n",
       "    </tr>\n",
       "    <tr>\n",
       "      <th>90835</th>\n",
       "      <td>54205447</td>\n",
       "      <td>(2021 TW7)</td>\n",
       "      <td>0.039862</td>\n",
       "      <td>0.089133</td>\n",
       "      <td>27024.455553</td>\n",
       "      <td>5.977213e+07</td>\n",
       "      <td>Earth</td>\n",
       "      <td>False</td>\n",
       "      <td>24.12</td>\n",
       "      <td>False</td>\n",
       "    </tr>\n",
       "  </tbody>\n",
       "</table>\n",
       "<p>90836 rows × 10 columns</p>\n",
       "</div>"
      ],
      "text/plain": [
       "             id                 name  est_diameter_min  est_diameter_max  \\\n",
       "0       2162635  162635 (2000 SS164)          1.198271          2.679415   \n",
       "1       2277475    277475 (2005 WK4)          0.265800          0.594347   \n",
       "2       2512244   512244 (2015 YE18)          0.722030          1.614507   \n",
       "3       3596030          (2012 BV13)          0.096506          0.215794   \n",
       "4       3667127          (2014 GE35)          0.255009          0.570217   \n",
       "...         ...                  ...               ...               ...   \n",
       "90831   3763337           (2016 VX1)          0.026580          0.059435   \n",
       "90832   3837603           (2019 AD3)          0.016771          0.037501   \n",
       "90833  54017201           (2020 JP3)          0.031956          0.071456   \n",
       "90834  54115824           (2021 CN5)          0.007321          0.016370   \n",
       "90835  54205447           (2021 TW7)          0.039862          0.089133   \n",
       "\n",
       "       relative_velocity  miss_distance orbiting_body  sentry_object  \\\n",
       "0           13569.249224   5.483974e+07         Earth          False   \n",
       "1           73588.726663   6.143813e+07         Earth          False   \n",
       "2          114258.692129   4.979872e+07         Earth          False   \n",
       "3           24764.303138   2.543497e+07         Earth          False   \n",
       "4           42737.733765   4.627557e+07         Earth          False   \n",
       "...                  ...            ...           ...            ...   \n",
       "90831       52078.886692   1.230039e+07         Earth          False   \n",
       "90832       46114.605073   5.432121e+07         Earth          False   \n",
       "90833        7566.807732   2.840077e+07         Earth          False   \n",
       "90834       69199.154484   6.869206e+07         Earth          False   \n",
       "90835       27024.455553   5.977213e+07         Earth          False   \n",
       "\n",
       "       absolute_magnitude  hazardous  \n",
       "0                   16.73      False  \n",
       "1                   20.00       True  \n",
       "2                   17.83      False  \n",
       "3                   22.20      False  \n",
       "4                   20.09       True  \n",
       "...                   ...        ...  \n",
       "90831               25.00      False  \n",
       "90832               26.00      False  \n",
       "90833               24.60      False  \n",
       "90834               27.80      False  \n",
       "90835               24.12      False  \n",
       "\n",
       "[90836 rows x 10 columns]"
      ]
     },
     "execution_count": 2,
     "metadata": {},
     "output_type": "execute_result"
    }
   ],
   "source": [
    "import pandas as pd\n",
    "df = pd.read_csv(\"/kaggle/input/nasa-nearest-earth-objects/neo_v2.csv\")\n",
    "df\n"
   ]
  },
  {
   "cell_type": "code",
   "execution_count": 3,
   "id": "e98673a6",
   "metadata": {
    "execution": {
     "iopub.execute_input": "2023-01-03T19:14:11.248100Z",
     "iopub.status.busy": "2023-01-03T19:14:11.247687Z",
     "iopub.status.idle": "2023-01-03T19:14:11.266859Z",
     "shell.execute_reply": "2023-01-03T19:14:11.265643Z"
    },
    "papermill": {
     "duration": 0.033272,
     "end_time": "2023-01-03T19:14:11.269497",
     "exception": false,
     "start_time": "2023-01-03T19:14:11.236225",
     "status": "completed"
    },
    "tags": []
   },
   "outputs": [
    {
     "data": {
      "text/plain": [
       "id                    0\n",
       "name                  0\n",
       "est_diameter_min      0\n",
       "est_diameter_max      0\n",
       "relative_velocity     0\n",
       "miss_distance         0\n",
       "orbiting_body         0\n",
       "sentry_object         0\n",
       "absolute_magnitude    0\n",
       "hazardous             0\n",
       "dtype: int64"
      ]
     },
     "execution_count": 3,
     "metadata": {},
     "output_type": "execute_result"
    }
   ],
   "source": [
    "df.isna().sum()"
   ]
  },
  {
   "cell_type": "code",
   "execution_count": 4,
   "id": "a966c858",
   "metadata": {
    "execution": {
     "iopub.execute_input": "2023-01-03T19:14:11.290335Z",
     "iopub.status.busy": "2023-01-03T19:14:11.289895Z",
     "iopub.status.idle": "2023-01-03T19:14:11.329658Z",
     "shell.execute_reply": "2023-01-03T19:14:11.327977Z"
    },
    "papermill": {
     "duration": 0.053709,
     "end_time": "2023-01-03T19:14:11.332906",
     "exception": false,
     "start_time": "2023-01-03T19:14:11.279197",
     "status": "completed"
    },
    "tags": []
   },
   "outputs": [
    {
     "name": "stdout",
     "output_type": "stream",
     "text": [
      "<class 'pandas.core.frame.DataFrame'>\n",
      "RangeIndex: 90836 entries, 0 to 90835\n",
      "Data columns (total 10 columns):\n",
      " #   Column              Non-Null Count  Dtype  \n",
      "---  ------              --------------  -----  \n",
      " 0   id                  90836 non-null  int64  \n",
      " 1   name                90836 non-null  object \n",
      " 2   est_diameter_min    90836 non-null  float64\n",
      " 3   est_diameter_max    90836 non-null  float64\n",
      " 4   relative_velocity   90836 non-null  float64\n",
      " 5   miss_distance       90836 non-null  float64\n",
      " 6   orbiting_body       90836 non-null  object \n",
      " 7   sentry_object       90836 non-null  bool   \n",
      " 8   absolute_magnitude  90836 non-null  float64\n",
      " 9   hazardous           90836 non-null  bool   \n",
      "dtypes: bool(2), float64(5), int64(1), object(2)\n",
      "memory usage: 5.7+ MB\n"
     ]
    }
   ],
   "source": [
    "df.info()"
   ]
  },
  {
   "cell_type": "code",
   "execution_count": 5,
   "id": "7f666a8e",
   "metadata": {
    "execution": {
     "iopub.execute_input": "2023-01-03T19:14:11.356607Z",
     "iopub.status.busy": "2023-01-03T19:14:11.355805Z",
     "iopub.status.idle": "2023-01-03T19:14:11.363039Z",
     "shell.execute_reply": "2023-01-03T19:14:11.361672Z"
    },
    "papermill": {
     "duration": 0.021321,
     "end_time": "2023-01-03T19:14:11.365831",
     "exception": false,
     "start_time": "2023-01-03T19:14:11.344510",
     "status": "completed"
    },
    "tags": []
   },
   "outputs": [
    {
     "data": {
      "text/plain": [
       "Index(['id', 'name', 'est_diameter_min', 'est_diameter_max',\n",
       "       'relative_velocity', 'miss_distance', 'orbiting_body', 'sentry_object',\n",
       "       'absolute_magnitude', 'hazardous'],\n",
       "      dtype='object')"
      ]
     },
     "execution_count": 5,
     "metadata": {},
     "output_type": "execute_result"
    }
   ],
   "source": [
    "df.columns"
   ]
  },
  {
   "cell_type": "code",
   "execution_count": 6,
   "id": "0b4d5de5",
   "metadata": {
    "execution": {
     "iopub.execute_input": "2023-01-03T19:14:11.386776Z",
     "iopub.status.busy": "2023-01-03T19:14:11.386327Z",
     "iopub.status.idle": "2023-01-03T19:14:11.394198Z",
     "shell.execute_reply": "2023-01-03T19:14:11.392687Z"
    },
    "papermill": {
     "duration": 0.021393,
     "end_time": "2023-01-03T19:14:11.396846",
     "exception": false,
     "start_time": "2023-01-03T19:14:11.375453",
     "status": "completed"
    },
    "tags": []
   },
   "outputs": [],
   "source": [
    "df = df.drop(['id','orbiting_body','name','sentry_object'],axis = 'columns')"
   ]
  },
  {
   "cell_type": "code",
   "execution_count": 7,
   "id": "236674a8",
   "metadata": {
    "execution": {
     "iopub.execute_input": "2023-01-03T19:14:11.418418Z",
     "iopub.status.busy": "2023-01-03T19:14:11.417999Z",
     "iopub.status.idle": "2023-01-03T19:14:11.447194Z",
     "shell.execute_reply": "2023-01-03T19:14:11.445944Z"
    },
    "papermill": {
     "duration": 0.0426,
     "end_time": "2023-01-03T19:14:11.449649",
     "exception": false,
     "start_time": "2023-01-03T19:14:11.407049",
     "status": "completed"
    },
    "tags": []
   },
   "outputs": [
    {
     "data": {
      "text/html": [
       "<div>\n",
       "<style scoped>\n",
       "    .dataframe tbody tr th:only-of-type {\n",
       "        vertical-align: middle;\n",
       "    }\n",
       "\n",
       "    .dataframe tbody tr th {\n",
       "        vertical-align: top;\n",
       "    }\n",
       "\n",
       "    .dataframe thead th {\n",
       "        text-align: right;\n",
       "    }\n",
       "</style>\n",
       "<table border=\"1\" class=\"dataframe\">\n",
       "  <thead>\n",
       "    <tr style=\"text-align: right;\">\n",
       "      <th></th>\n",
       "      <th>est_diameter_min</th>\n",
       "      <th>est_diameter_max</th>\n",
       "      <th>relative_velocity</th>\n",
       "      <th>miss_distance</th>\n",
       "      <th>absolute_magnitude</th>\n",
       "      <th>hazardous</th>\n",
       "    </tr>\n",
       "  </thead>\n",
       "  <tbody>\n",
       "    <tr>\n",
       "      <th>est_diameter_min</th>\n",
       "      <td>1.000000</td>\n",
       "      <td>1.000000</td>\n",
       "      <td>0.221553</td>\n",
       "      <td>0.142241</td>\n",
       "      <td>-0.560188</td>\n",
       "      <td>0.183363</td>\n",
       "    </tr>\n",
       "    <tr>\n",
       "      <th>est_diameter_max</th>\n",
       "      <td>1.000000</td>\n",
       "      <td>1.000000</td>\n",
       "      <td>0.221553</td>\n",
       "      <td>0.142241</td>\n",
       "      <td>-0.560188</td>\n",
       "      <td>0.183363</td>\n",
       "    </tr>\n",
       "    <tr>\n",
       "      <th>relative_velocity</th>\n",
       "      <td>0.221553</td>\n",
       "      <td>0.221553</td>\n",
       "      <td>1.000000</td>\n",
       "      <td>0.327169</td>\n",
       "      <td>-0.353863</td>\n",
       "      <td>0.191185</td>\n",
       "    </tr>\n",
       "    <tr>\n",
       "      <th>miss_distance</th>\n",
       "      <td>0.142241</td>\n",
       "      <td>0.142241</td>\n",
       "      <td>0.327169</td>\n",
       "      <td>1.000000</td>\n",
       "      <td>-0.264168</td>\n",
       "      <td>0.042302</td>\n",
       "    </tr>\n",
       "    <tr>\n",
       "      <th>absolute_magnitude</th>\n",
       "      <td>-0.560188</td>\n",
       "      <td>-0.560188</td>\n",
       "      <td>-0.353863</td>\n",
       "      <td>-0.264168</td>\n",
       "      <td>1.000000</td>\n",
       "      <td>-0.365267</td>\n",
       "    </tr>\n",
       "    <tr>\n",
       "      <th>hazardous</th>\n",
       "      <td>0.183363</td>\n",
       "      <td>0.183363</td>\n",
       "      <td>0.191185</td>\n",
       "      <td>0.042302</td>\n",
       "      <td>-0.365267</td>\n",
       "      <td>1.000000</td>\n",
       "    </tr>\n",
       "  </tbody>\n",
       "</table>\n",
       "</div>"
      ],
      "text/plain": [
       "                    est_diameter_min  est_diameter_max  relative_velocity  \\\n",
       "est_diameter_min            1.000000          1.000000           0.221553   \n",
       "est_diameter_max            1.000000          1.000000           0.221553   \n",
       "relative_velocity           0.221553          0.221553           1.000000   \n",
       "miss_distance               0.142241          0.142241           0.327169   \n",
       "absolute_magnitude         -0.560188         -0.560188          -0.353863   \n",
       "hazardous                   0.183363          0.183363           0.191185   \n",
       "\n",
       "                    miss_distance  absolute_magnitude  hazardous  \n",
       "est_diameter_min         0.142241           -0.560188   0.183363  \n",
       "est_diameter_max         0.142241           -0.560188   0.183363  \n",
       "relative_velocity        0.327169           -0.353863   0.191185  \n",
       "miss_distance            1.000000           -0.264168   0.042302  \n",
       "absolute_magnitude      -0.264168            1.000000  -0.365267  \n",
       "hazardous                0.042302           -0.365267   1.000000  "
      ]
     },
     "execution_count": 7,
     "metadata": {},
     "output_type": "execute_result"
    }
   ],
   "source": [
    "df.corr()"
   ]
  },
  {
   "cell_type": "code",
   "execution_count": 8,
   "id": "3f9dfcc1",
   "metadata": {
    "execution": {
     "iopub.execute_input": "2023-01-03T19:14:11.472623Z",
     "iopub.status.busy": "2023-01-03T19:14:11.472246Z",
     "iopub.status.idle": "2023-01-03T19:14:12.928635Z",
     "shell.execute_reply": "2023-01-03T19:14:12.927354Z"
    },
    "papermill": {
     "duration": 1.470957,
     "end_time": "2023-01-03T19:14:12.931517",
     "exception": false,
     "start_time": "2023-01-03T19:14:11.460560",
     "status": "completed"
    },
    "tags": []
   },
   "outputs": [
    {
     "data": {
      "image/png": "[encoded data removed]",
      "text/plain": [
       "<Figure size 432x288 with 1 Axes>"
      ]
     },
     "metadata": {
      "needs_background": "light"
     },
     "output_type": "display_data"
    }
   ],
   "source": [
    "import seaborn as sns\n",
    "import matplotlib.pyplot as plt\n",
    "sns.boxenplot(x='hazardous',y='est_diameter_min',data=df)\n",
    "plt.show()"
   ]
  },
  {
   "cell_type": "code",
   "execution_count": 9,
   "id": "15fa0bfc",
   "metadata": {
    "execution": {
     "iopub.execute_input": "2023-01-03T19:14:12.955222Z",
     "iopub.status.busy": "2023-01-03T19:14:12.954784Z",
     "iopub.status.idle": "2023-01-03T19:14:13.169940Z",
     "shell.execute_reply": "2023-01-03T19:14:13.169176Z"
    },
    "papermill": {
     "duration": 0.229704,
     "end_time": "2023-01-03T19:14:13.172231",
     "exception": false,
     "start_time": "2023-01-03T19:14:12.942527",
     "status": "completed"
    },
    "tags": []
   },
   "outputs": [
    {
     "data": {
      "image/png": "[encoded data removed]",
      "text/plain": [
       "<Figure size 432x288 with 1 Axes>"
      ]
     },
     "metadata": {
      "needs_background": "light"
     },
     "output_type": "display_data"
    }
   ],
   "source": [
    "sns.boxenplot(x='hazardous',y='est_diameter_max',data=df)\n",
    "plt.show()"
   ]
  },
  {
   "cell_type": "code",
   "execution_count": 10,
   "id": "c0616c21",
   "metadata": {
    "execution": {
     "iopub.execute_input": "2023-01-03T19:14:13.194756Z",
     "iopub.status.busy": "2023-01-03T19:14:13.194317Z",
     "iopub.status.idle": "2023-01-03T19:14:13.838414Z",
     "shell.execute_reply": "2023-01-03T19:14:13.837416Z"
    },
    "papermill": {
     "duration": 0.658149,
     "end_time": "2023-01-03T19:14:13.840844",
     "exception": false,
     "start_time": "2023-01-03T19:14:13.182695",
     "status": "completed"
    },
    "tags": []
   },
   "outputs": [
    {
     "name": "stderr",
     "output_type": "stream",
     "text": [
      "/opt/conda/lib/python3.7/site-packages/seaborn/distributions.py:2619: FutureWarning: `distplot` is a deprecated function and will be removed in a future version. Please adapt your code to use either `displot` (a figure-level function with similar flexibility) or `histplot` (an axes-level function for histograms).\n",
      "  warnings.warn(msg, FutureWarning)\n"
     ]
    },
    {
     "data": {
      "image/png": "[encoded data removed]",
      "text/plain": [
       "<Figure size 432x288 with 1 Axes>"
      ]
     },
     "metadata": {
      "needs_background": "light"
     },
     "output_type": "display_data"
    }
   ],
   "source": [
    "sns.distplot(df.miss_distance)\n",
    "plt.show()"
   ]
  },
  {
   "cell_type": "code",
   "execution_count": 11,
   "id": "1e5cd1ae",
   "metadata": {
    "execution": {
     "iopub.execute_input": "2023-01-03T19:14:13.864999Z",
     "iopub.status.busy": "2023-01-03T19:14:13.863958Z",
     "iopub.status.idle": "2023-01-03T19:14:14.588320Z",
     "shell.execute_reply": "2023-01-03T19:14:14.587203Z"
    },
    "papermill": {
     "duration": 0.739123,
     "end_time": "2023-01-03T19:14:14.591022",
     "exception": false,
     "start_time": "2023-01-03T19:14:13.851899",
     "status": "completed"
    },
    "tags": []
   },
   "outputs": [
    {
     "name": "stderr",
     "output_type": "stream",
     "text": [
      "/opt/conda/lib/python3.7/site-packages/seaborn/distributions.py:2619: FutureWarning: `distplot` is a deprecated function and will be removed in a future version. Please adapt your code to use either `displot` (a figure-level function with similar flexibility) or `histplot` (an axes-level function for histograms).\n",
      "  warnings.warn(msg, FutureWarning)\n"
     ]
    },
    {
     "data": {
      "image/png": "[encoded data removed]",
      "text/plain": [
       "<Figure size 432x288 with 1 Axes>"
      ]
     },
     "metadata": {
      "needs_background": "light"
     },
     "output_type": "display_data"
    }
   ],
   "source": [
    "sns.distplot(df.relative_velocity)\n",
    "plt.show()"
   ]
  },
  {
   "cell_type": "code",
   "execution_count": 12,
   "id": "7430a466",
   "metadata": {
    "execution": {
     "iopub.execute_input": "2023-01-03T19:14:14.615702Z",
     "iopub.status.busy": "2023-01-03T19:14:14.615029Z",
     "iopub.status.idle": "2023-01-03T19:14:14.806143Z",
     "shell.execute_reply": "2023-01-03T19:14:14.804888Z"
    },
    "papermill": {
     "duration": 0.206293,
     "end_time": "2023-01-03T19:14:14.808728",
     "exception": false,
     "start_time": "2023-01-03T19:14:14.602435",
     "status": "completed"
    },
    "tags": []
   },
   "outputs": [
    {
     "data": {
      "image/png": "[encoded data removed]",
      "text/plain": [
       "<Figure size 432x288 with 1 Axes>"
      ]
     },
     "metadata": {
      "needs_background": "light"
     },
     "output_type": "display_data"
    }
   ],
   "source": [
    "sns.countplot(x='hazardous',data=df)\n",
    "plt.show()"
   ]
  },
  {
   "cell_type": "code",
   "execution_count": 13,
   "id": "0d67770c",
   "metadata": {
    "execution": {
     "iopub.execute_input": "2023-01-03T19:14:14.833590Z",
     "iopub.status.busy": "2023-01-03T19:14:14.833209Z",
     "iopub.status.idle": "2023-01-03T19:14:14.840724Z",
     "shell.execute_reply": "2023-01-03T19:14:14.839451Z"
    },
    "papermill": {
     "duration": 0.022871,
     "end_time": "2023-01-03T19:14:14.843182",
     "exception": false,
     "start_time": "2023-01-03T19:14:14.820311",
     "status": "completed"
    },
    "tags": []
   },
   "outputs": [],
   "source": [
    "df['est_diameter_avg']=(df.est_diameter_max+df.est_diameter_min)/2\n"
   ]
  },
  {
   "cell_type": "code",
   "execution_count": 14,
   "id": "8fcc2867",
   "metadata": {
    "execution": {
     "iopub.execute_input": "2023-01-03T19:14:14.867962Z",
     "iopub.status.busy": "2023-01-03T19:14:14.867578Z",
     "iopub.status.idle": "2023-01-03T19:14:14.887191Z",
     "shell.execute_reply": "2023-01-03T19:14:14.886078Z"
    },
    "papermill": {
     "duration": 0.035054,
     "end_time": "2023-01-03T19:14:14.889706",
     "exception": false,
     "start_time": "2023-01-03T19:14:14.854652",
     "status": "completed"
    },
    "tags": []
   },
   "outputs": [
    {
     "data": {
      "text/html": [
       "<div>\n",
       "<style scoped>\n",
       "    .dataframe tbody tr th:only-of-type {\n",
       "        vertical-align: middle;\n",
       "    }\n",
       "\n",
       "    .dataframe tbody tr th {\n",
       "        vertical-align: top;\n",
       "    }\n",
       "\n",
       "    .dataframe thead th {\n",
       "        text-align: right;\n",
       "    }\n",
       "</style>\n",
       "<table border=\"1\" class=\"dataframe\">\n",
       "  <thead>\n",
       "    <tr style=\"text-align: right;\">\n",
       "      <th></th>\n",
       "      <th>est_diameter_min</th>\n",
       "      <th>est_diameter_max</th>\n",
       "      <th>relative_velocity</th>\n",
       "      <th>miss_distance</th>\n",
       "      <th>absolute_magnitude</th>\n",
       "      <th>hazardous</th>\n",
       "      <th>est_diameter_avg</th>\n",
       "    </tr>\n",
       "  </thead>\n",
       "  <tbody>\n",
       "    <tr>\n",
       "      <th>0</th>\n",
       "      <td>1.198271</td>\n",
       "      <td>2.679415</td>\n",
       "      <td>13569.249224</td>\n",
       "      <td>5.483974e+07</td>\n",
       "      <td>16.73</td>\n",
       "      <td>False</td>\n",
       "      <td>1.938843</td>\n",
       "    </tr>\n",
       "    <tr>\n",
       "      <th>1</th>\n",
       "      <td>0.265800</td>\n",
       "      <td>0.594347</td>\n",
       "      <td>73588.726663</td>\n",
       "      <td>6.143813e+07</td>\n",
       "      <td>20.00</td>\n",
       "      <td>True</td>\n",
       "      <td>0.430073</td>\n",
       "    </tr>\n",
       "    <tr>\n",
       "      <th>2</th>\n",
       "      <td>0.722030</td>\n",
       "      <td>1.614507</td>\n",
       "      <td>114258.692129</td>\n",
       "      <td>4.979872e+07</td>\n",
       "      <td>17.83</td>\n",
       "      <td>False</td>\n",
       "      <td>1.168268</td>\n",
       "    </tr>\n",
       "    <tr>\n",
       "      <th>3</th>\n",
       "      <td>0.096506</td>\n",
       "      <td>0.215794</td>\n",
       "      <td>24764.303138</td>\n",
       "      <td>2.543497e+07</td>\n",
       "      <td>22.20</td>\n",
       "      <td>False</td>\n",
       "      <td>0.156150</td>\n",
       "    </tr>\n",
       "    <tr>\n",
       "      <th>4</th>\n",
       "      <td>0.255009</td>\n",
       "      <td>0.570217</td>\n",
       "      <td>42737.733765</td>\n",
       "      <td>4.627557e+07</td>\n",
       "      <td>20.09</td>\n",
       "      <td>True</td>\n",
       "      <td>0.412613</td>\n",
       "    </tr>\n",
       "    <tr>\n",
       "      <th>...</th>\n",
       "      <td>...</td>\n",
       "      <td>...</td>\n",
       "      <td>...</td>\n",
       "      <td>...</td>\n",
       "      <td>...</td>\n",
       "      <td>...</td>\n",
       "      <td>...</td>\n",
       "    </tr>\n",
       "    <tr>\n",
       "      <th>90831</th>\n",
       "      <td>0.026580</td>\n",
       "      <td>0.059435</td>\n",
       "      <td>52078.886692</td>\n",
       "      <td>1.230039e+07</td>\n",
       "      <td>25.00</td>\n",
       "      <td>False</td>\n",
       "      <td>0.043007</td>\n",
       "    </tr>\n",
       "    <tr>\n",
       "      <th>90832</th>\n",
       "      <td>0.016771</td>\n",
       "      <td>0.037501</td>\n",
       "      <td>46114.605073</td>\n",
       "      <td>5.432121e+07</td>\n",
       "      <td>26.00</td>\n",
       "      <td>False</td>\n",
       "      <td>0.027136</td>\n",
       "    </tr>\n",
       "    <tr>\n",
       "      <th>90833</th>\n",
       "      <td>0.031956</td>\n",
       "      <td>0.071456</td>\n",
       "      <td>7566.807732</td>\n",
       "      <td>2.840077e+07</td>\n",
       "      <td>24.60</td>\n",
       "      <td>False</td>\n",
       "      <td>0.051706</td>\n",
       "    </tr>\n",
       "    <tr>\n",
       "      <th>90834</th>\n",
       "      <td>0.007321</td>\n",
       "      <td>0.016370</td>\n",
       "      <td>69199.154484</td>\n",
       "      <td>6.869206e+07</td>\n",
       "      <td>27.80</td>\n",
       "      <td>False</td>\n",
       "      <td>0.011845</td>\n",
       "    </tr>\n",
       "    <tr>\n",
       "      <th>90835</th>\n",
       "      <td>0.039862</td>\n",
       "      <td>0.089133</td>\n",
       "      <td>27024.455553</td>\n",
       "      <td>5.977213e+07</td>\n",
       "      <td>24.12</td>\n",
       "      <td>False</td>\n",
       "      <td>0.064497</td>\n",
       "    </tr>\n",
       "  </tbody>\n",
       "</table>\n",
       "<p>90836 rows × 7 columns</p>\n",
       "</div>"
      ],
      "text/plain": [
       "       est_diameter_min  est_diameter_max  relative_velocity  miss_distance  \\\n",
       "0              1.198271          2.679415       13569.249224   5.483974e+07   \n",
       "1              0.265800          0.594347       73588.726663   6.143813e+07   \n",
       "2              0.722030          1.614507      114258.692129   4.979872e+07   \n",
       "3              0.096506          0.215794       24764.303138   2.543497e+07   \n",
       "4              0.255009          0.570217       42737.733765   4.627557e+07   \n",
       "...                 ...               ...                ...            ...   \n",
       "90831          0.026580          0.059435       52078.886692   1.230039e+07   \n",
       "90832          0.016771          0.037501       46114.605073   5.432121e+07   \n",
       "90833          0.031956          0.071456        7566.807732   2.840077e+07   \n",
       "90834          0.007321          0.016370       69199.154484   6.869206e+07   \n",
       "90835          0.039862          0.089133       27024.455553   5.977213e+07   \n",
       "\n",
       "       absolute_magnitude  hazardous  est_diameter_avg  \n",
       "0                   16.73      False          1.938843  \n",
       "1                   20.00       True          0.430073  \n",
       "2                   17.83      False          1.168268  \n",
       "3                   22.20      False          0.156150  \n",
       "4                   20.09       True          0.412613  \n",
       "...                   ...        ...               ...  \n",
       "90831               25.00      False          0.043007  \n",
       "90832               26.00      False          0.027136  \n",
       "90833               24.60      False          0.051706  \n",
       "90834               27.80      False          0.011845  \n",
       "90835               24.12      False          0.064497  \n",
       "\n",
       "[90836 rows x 7 columns]"
      ]
     },
     "execution_count": 14,
     "metadata": {},
     "output_type": "execute_result"
    }
   ],
   "source": [
    "df"
   ]
  },
  {
   "cell_type": "code",
   "execution_count": 15,
   "id": "9a6ed983",
   "metadata": {
    "execution": {
     "iopub.execute_input": "2023-01-03T19:14:14.915691Z",
     "iopub.status.busy": "2023-01-03T19:14:14.915192Z",
     "iopub.status.idle": "2023-01-03T19:14:15.175510Z",
     "shell.execute_reply": "2023-01-03T19:14:15.174064Z"
    },
    "papermill": {
     "duration": 0.27733,
     "end_time": "2023-01-03T19:14:15.178812",
     "exception": false,
     "start_time": "2023-01-03T19:14:14.901482",
     "status": "completed"
    },
    "tags": []
   },
   "outputs": [],
   "source": [
    "from sklearn.model_selection import train_test_split\n",
    "X = df.drop('hazardous', axis =1)\n",
    "y = df.hazardous\n",
    "X_train, X_test, y_train, y_test = train_test_split(X, y, test_size=0.2, random_state=42)"
   ]
  },
  {
   "cell_type": "code",
   "execution_count": 16,
   "id": "eb81bd29",
   "metadata": {
    "execution": {
     "iopub.execute_input": "2023-01-03T19:14:15.205653Z",
     "iopub.status.busy": "2023-01-03T19:14:15.205168Z",
     "iopub.status.idle": "2023-01-03T19:14:15.407845Z",
     "shell.execute_reply": "2023-01-03T19:14:15.406313Z"
    },
    "papermill": {
     "duration": 0.219692,
     "end_time": "2023-01-03T19:14:15.411605",
     "exception": false,
     "start_time": "2023-01-03T19:14:15.191913",
     "status": "completed"
    },
    "tags": []
   },
   "outputs": [
    {
     "data": {
      "text/plain": [
       "array([0., 0., 0., 0., 0., 0.])"
      ]
     },
     "execution_count": 16,
     "metadata": {},
     "output_type": "execute_result"
    }
   ],
   "source": [
    "from sklearn.feature_selection import chi2 \n",
    "scores, pvalues = chi2(X, y) \n",
    "pvalues"
   ]
  },
  {
   "cell_type": "code",
   "execution_count": 17,
   "id": "b0de6975",
   "metadata": {
    "execution": {
     "iopub.execute_input": "2023-01-03T19:14:15.446497Z",
     "iopub.status.busy": "2023-01-03T19:14:15.445675Z",
     "iopub.status.idle": "2023-01-03T19:14:15.452956Z",
     "shell.execute_reply": "2023-01-03T19:14:15.452064Z"
    },
    "papermill": {
     "duration": 0.023211,
     "end_time": "2023-01-03T19:14:15.455469",
     "exception": false,
     "start_time": "2023-01-03T19:14:15.432258",
     "status": "completed"
    },
    "tags": []
   },
   "outputs": [
    {
     "data": {
      "text/plain": [
       "array([2.13560124e+03, 4.77534955e+03, 4.41900556e+07, 2.19091335e+09,\n",
       "       4.31447150e+03, 3.45547539e+03])"
      ]
     },
     "execution_count": 17,
     "metadata": {},
     "output_type": "execute_result"
    }
   ],
   "source": [
    "scores"
   ]
  },
  {
   "cell_type": "code",
   "execution_count": 18,
   "id": "b85c047d",
   "metadata": {
    "execution": {
     "iopub.execute_input": "2023-01-03T19:14:15.481409Z",
     "iopub.status.busy": "2023-01-03T19:14:15.480971Z",
     "iopub.status.idle": "2023-01-03T19:14:15.857999Z",
     "shell.execute_reply": "2023-01-03T19:14:15.856343Z"
    },
    "papermill": {
     "duration": 0.395482,
     "end_time": "2023-01-03T19:14:15.863058",
     "exception": false,
     "start_time": "2023-01-03T19:14:15.467576",
     "status": "completed"
    },
    "tags": []
   },
   "outputs": [],
   "source": [
    "from sklearn.linear_model import LogisticRegression\n",
    "lr=LogisticRegression()\n",
    "lr_model=lr.fit(X_train,y_train)\n",
    "y_pred=lr_model.predict(X_test)"
   ]
  },
  {
   "cell_type": "code",
   "execution_count": 19,
   "id": "029a48ef",
   "metadata": {
    "execution": {
     "iopub.execute_input": "2023-01-03T19:14:15.927600Z",
     "iopub.status.busy": "2023-01-03T19:14:15.926902Z",
     "iopub.status.idle": "2023-01-03T19:14:15.953652Z",
     "shell.execute_reply": "2023-01-03T19:14:15.951991Z"
    },
    "papermill": {
     "duration": 0.065226,
     "end_time": "2023-01-03T19:14:15.958554",
     "exception": false,
     "start_time": "2023-01-03T19:14:15.893328",
     "status": "completed"
    },
    "tags": []
   },
   "outputs": [
    {
     "data": {
      "text/plain": [
       "0.9048326728313518"
      ]
     },
     "execution_count": 19,
     "metadata": {},
     "output_type": "execute_result"
    }
   ],
   "source": [
    "lr.score(X_test, y_test)"
   ]
  },
  {
   "cell_type": "code",
   "execution_count": 20,
   "id": "e4b3ec46",
   "metadata": {
    "execution": {
     "iopub.execute_input": "2023-01-03T19:14:16.021233Z",
     "iopub.status.busy": "2023-01-03T19:14:16.020531Z",
     "iopub.status.idle": "2023-01-03T19:14:16.037521Z",
     "shell.execute_reply": "2023-01-03T19:14:16.035914Z"
    },
    "papermill": {
     "duration": 0.053663,
     "end_time": "2023-01-03T19:14:16.042293",
     "exception": false,
     "start_time": "2023-01-03T19:14:15.988630",
     "status": "completed"
    },
    "tags": []
   },
   "outputs": [],
   "source": [
    "from sklearn.metrics import accuracy_score, f1_score,precision_score,recall_score, classification_report\n",
    "def evaluate(y_test,y_pred):    \n",
    "    print('Accuracy Score:',accuracy_score(y_test,y_pred))\n",
    "    print('F1_score:',f1_score(y_test,y_pred))\n",
    "    print('Precision:',precision_score(y_test,y_pred))\n",
    "    print('Recall:',recall_score(y_test,y_pred))\n",
    "    print('Classification report:\\n',classification_report(y_test,y_pred))"
   ]
  },
  {
   "cell_type": "code",
   "execution_count": 21,
   "id": "e70d3fbe",
   "metadata": {
    "execution": {
     "iopub.execute_input": "2023-01-03T19:14:16.077160Z",
     "iopub.status.busy": "2023-01-03T19:14:16.076761Z",
     "iopub.status.idle": "2023-01-03T19:14:16.131387Z",
     "shell.execute_reply": "2023-01-03T19:14:16.129621Z"
    },
    "papermill": {
     "duration": 0.070703,
     "end_time": "2023-01-03T19:14:16.134083",
     "exception": false,
     "start_time": "2023-01-03T19:14:16.063380",
     "status": "completed"
    },
    "tags": []
   },
   "outputs": [
    {
     "name": "stdout",
     "output_type": "stream",
     "text": [
      "Accuracy Score: 0.9048326728313518\n",
      "F1_score: 0.0\n",
      "Precision: 0.0\n",
      "Recall: 0.0\n",
      "Classification report:\n",
      "               precision    recall  f1-score   support\n",
      "\n",
      "       False       0.90      1.00      0.95     16439\n",
      "        True       0.00      0.00      0.00      1729\n",
      "\n",
      "    accuracy                           0.90     18168\n",
      "   macro avg       0.45      0.50      0.48     18168\n",
      "weighted avg       0.82      0.90      0.86     18168\n",
      "\n"
     ]
    },
    {
     "name": "stderr",
     "output_type": "stream",
     "text": [
      "/opt/conda/lib/python3.7/site-packages/sklearn/metrics/_classification.py:1318: UndefinedMetricWarning: Precision is ill-defined and being set to 0.0 due to no predicted samples. Use `zero_division` parameter to control this behavior.\n",
      "  _warn_prf(average, modifier, msg_start, len(result))\n",
      "/opt/conda/lib/python3.7/site-packages/sklearn/metrics/_classification.py:1318: UndefinedMetricWarning: Precision and F-score are ill-defined and being set to 0.0 in labels with no predicted samples. Use `zero_division` parameter to control this behavior.\n",
      "  _warn_prf(average, modifier, msg_start, len(result))\n",
      "/opt/conda/lib/python3.7/site-packages/sklearn/metrics/_classification.py:1318: UndefinedMetricWarning: Precision and F-score are ill-defined and being set to 0.0 in labels with no predicted samples. Use `zero_division` parameter to control this behavior.\n",
      "  _warn_prf(average, modifier, msg_start, len(result))\n",
      "/opt/conda/lib/python3.7/site-packages/sklearn/metrics/_classification.py:1318: UndefinedMetricWarning: Precision and F-score are ill-defined and being set to 0.0 in labels with no predicted samples. Use `zero_division` parameter to control this behavior.\n",
      "  _warn_prf(average, modifier, msg_start, len(result))\n"
     ]
    }
   ],
   "source": [
    "evaluate(y_test,y_pred)"
   ]
  },
  {
   "cell_type": "code",
   "execution_count": 22,
   "id": "a94398ad",
   "metadata": {
    "execution": {
     "iopub.execute_input": "2023-01-03T19:14:16.160089Z",
     "iopub.status.busy": "2023-01-03T19:14:16.159642Z",
     "iopub.status.idle": "2023-01-03T19:14:16.651322Z",
     "shell.execute_reply": "2023-01-03T19:14:16.650072Z"
    },
    "papermill": {
     "duration": 0.507789,
     "end_time": "2023-01-03T19:14:16.654079",
     "exception": false,
     "start_time": "2023-01-03T19:14:16.146290",
     "status": "completed"
    },
    "tags": []
   },
   "outputs": [],
   "source": [
    "from sklearn.tree import DecisionTreeClassifier\n",
    "tree=DecisionTreeClassifier()\n",
    "model_tree=tree.fit(X_train,y_train)\n",
    "y_pred_tree=model_tree.predict(X_test)"
   ]
  },
  {
   "cell_type": "code",
   "execution_count": 23,
   "id": "1e4114ce",
   "metadata": {
    "execution": {
     "iopub.execute_input": "2023-01-03T19:14:16.680132Z",
     "iopub.status.busy": "2023-01-03T19:14:16.679683Z",
     "iopub.status.idle": "2023-01-03T19:14:16.686188Z",
     "shell.execute_reply": "2023-01-03T19:14:16.685290Z"
    },
    "papermill": {
     "duration": 0.021842,
     "end_time": "2023-01-03T19:14:16.688334",
     "exception": false,
     "start_time": "2023-01-03T19:14:16.666492",
     "status": "completed"
    },
    "tags": []
   },
   "outputs": [
    {
     "data": {
      "text/plain": [
       "array([False, False, False, ..., False,  True, False])"
      ]
     },
     "execution_count": 23,
     "metadata": {},
     "output_type": "execute_result"
    }
   ],
   "source": [
    "y_pred_tree"
   ]
  },
  {
   "cell_type": "code",
   "execution_count": 24,
   "id": "ef60ad24",
   "metadata": {
    "execution": {
     "iopub.execute_input": "2023-01-03T19:14:16.715367Z",
     "iopub.status.busy": "2023-01-03T19:14:16.714334Z",
     "iopub.status.idle": "2023-01-03T19:14:16.769933Z",
     "shell.execute_reply": "2023-01-03T19:14:16.768616Z"
    },
    "papermill": {
     "duration": 0.072427,
     "end_time": "2023-01-03T19:14:16.773080",
     "exception": false,
     "start_time": "2023-01-03T19:14:16.700653",
     "status": "completed"
    },
    "tags": []
   },
   "outputs": [
    {
     "name": "stdout",
     "output_type": "stream",
     "text": [
      "Accuracy Score: 0.8913474240422721\n",
      "F1_score: 0.45709570957095713\n",
      "Precision: 0.4357629785002622\n",
      "Recall: 0.48062463851937537\n",
      "Classification report:\n",
      "               precision    recall  f1-score   support\n",
      "\n",
      "       False       0.94      0.93      0.94     16439\n",
      "        True       0.44      0.48      0.46      1729\n",
      "\n",
      "    accuracy                           0.89     18168\n",
      "   macro avg       0.69      0.71      0.70     18168\n",
      "weighted avg       0.90      0.89      0.89     18168\n",
      "\n"
     ]
    }
   ],
   "source": [
    "evaluate(y_test,y_pred_tree)"
   ]
  },
  {
   "cell_type": "markdown",
   "id": "5aed33a8",
   "metadata": {
    "papermill": {
     "duration": 0.011686,
     "end_time": "2023-01-03T19:14:16.796968",
     "exception": false,
     "start_time": "2023-01-03T19:14:16.785282",
     "status": "completed"
    },
    "tags": []
   },
   "source": [
    "Hence, with Decision tree classifier, we see an increase in the recall, precision and f1-score."
   ]
  },
  {
   "cell_type": "code",
   "execution_count": 25,
   "id": "dc4db486",
   "metadata": {
    "execution": {
     "iopub.execute_input": "2023-01-03T19:14:16.824207Z",
     "iopub.status.busy": "2023-01-03T19:14:16.823060Z",
     "iopub.status.idle": "2023-01-03T19:14:28.305347Z",
     "shell.execute_reply": "2023-01-03T19:14:28.303718Z"
    },
    "papermill": {
     "duration": 11.499019,
     "end_time": "2023-01-03T19:14:28.308216",
     "exception": false,
     "start_time": "2023-01-03T19:14:16.809197",
     "status": "completed"
    },
    "tags": []
   },
   "outputs": [],
   "source": [
    "from sklearn.ensemble import RandomForestClassifier\n",
    "rf=RandomForestClassifier()\n",
    "y_pred_rf=rf.fit(X_train,y_train).predict(X_test)\n"
   ]
  },
  {
   "cell_type": "code",
   "execution_count": 26,
   "id": "a9fd05da",
   "metadata": {
    "execution": {
     "iopub.execute_input": "2023-01-03T19:14:28.335690Z",
     "iopub.status.busy": "2023-01-03T19:14:28.334810Z",
     "iopub.status.idle": "2023-01-03T19:14:28.342304Z",
     "shell.execute_reply": "2023-01-03T19:14:28.341082Z"
    },
    "papermill": {
     "duration": 0.023619,
     "end_time": "2023-01-03T19:14:28.344689",
     "exception": false,
     "start_time": "2023-01-03T19:14:28.321070",
     "status": "completed"
    },
    "tags": []
   },
   "outputs": [
    {
     "data": {
      "text/plain": [
       "array([False, False, False, ..., False,  True, False])"
      ]
     },
     "execution_count": 26,
     "metadata": {},
     "output_type": "execute_result"
    }
   ],
   "source": [
    "y_pred_rf"
   ]
  },
  {
   "cell_type": "markdown",
   "id": "0f1ab689",
   "metadata": {
    "papermill": {
     "duration": 0.012256,
     "end_time": "2023-01-03T19:14:28.369228",
     "exception": false,
     "start_time": "2023-01-03T19:14:28.356972",
     "status": "completed"
    },
    "tags": []
   },
   "source": []
  },
  {
   "cell_type": "code",
   "execution_count": 27,
   "id": "353bfaa1",
   "metadata": {
    "execution": {
     "iopub.execute_input": "2023-01-03T19:14:28.395556Z",
     "iopub.status.busy": "2023-01-03T19:14:28.395156Z",
     "iopub.status.idle": "2023-01-03T19:14:28.450474Z",
     "shell.execute_reply": "2023-01-03T19:14:28.449199Z"
    },
    "papermill": {
     "duration": 0.071938,
     "end_time": "2023-01-03T19:14:28.453570",
     "exception": false,
     "start_time": "2023-01-03T19:14:28.381632",
     "status": "completed"
    },
    "tags": []
   },
   "outputs": [
    {
     "name": "stdout",
     "output_type": "stream",
     "text": [
      "Accuracy Score: 0.9212901805372082\n",
      "F1_score: 0.5239680426098535\n",
      "Precision: 0.6172549019607844\n",
      "Recall: 0.4551764025448236\n",
      "Classification report:\n",
      "               precision    recall  f1-score   support\n",
      "\n",
      "       False       0.94      0.97      0.96     16439\n",
      "        True       0.62      0.46      0.52      1729\n",
      "\n",
      "    accuracy                           0.92     18168\n",
      "   macro avg       0.78      0.71      0.74     18168\n",
      "weighted avg       0.91      0.92      0.92     18168\n",
      "\n"
     ]
    }
   ],
   "source": [
    "evaluate(y_test, y_pred_rf)"
   ]
  },
  {
   "cell_type": "code",
   "execution_count": 28,
   "id": "642cab62",
   "metadata": {
    "execution": {
     "iopub.execute_input": "2023-01-03T19:14:28.480850Z",
     "iopub.status.busy": "2023-01-03T19:14:28.479858Z",
     "iopub.status.idle": "2023-01-03T19:14:29.089593Z",
     "shell.execute_reply": "2023-01-03T19:14:29.088333Z"
    },
    "papermill": {
     "duration": 0.62648,
     "end_time": "2023-01-03T19:14:29.092438",
     "exception": false,
     "start_time": "2023-01-03T19:14:28.465958",
     "status": "completed"
    },
    "tags": []
   },
   "outputs": [],
   "source": [
    "from sklearn.neighbors import KNeighborsClassifier \n",
    "knn = KNeighborsClassifier(n_neighbors=5)\n",
    "y_pred_knn = knn.fit(X_train, y_train).predict(X_test)"
   ]
  },
  {
   "cell_type": "code",
   "execution_count": 29,
   "id": "e30f63d1",
   "metadata": {
    "execution": {
     "iopub.execute_input": "2023-01-03T19:14:29.119804Z",
     "iopub.status.busy": "2023-01-03T19:14:29.119395Z",
     "iopub.status.idle": "2023-01-03T19:14:29.126276Z",
     "shell.execute_reply": "2023-01-03T19:14:29.125205Z"
    },
    "papermill": {
     "duration": 0.023281,
     "end_time": "2023-01-03T19:14:29.128873",
     "exception": false,
     "start_time": "2023-01-03T19:14:29.105592",
     "status": "completed"
    },
    "tags": []
   },
   "outputs": [
    {
     "data": {
      "text/plain": [
       "array([False, False, False, ..., False, False, False])"
      ]
     },
     "execution_count": 29,
     "metadata": {},
     "output_type": "execute_result"
    }
   ],
   "source": [
    "y_pred_knn"
   ]
  },
  {
   "cell_type": "code",
   "execution_count": 30,
   "id": "739b8b11",
   "metadata": {
    "execution": {
     "iopub.execute_input": "2023-01-03T19:14:29.155599Z",
     "iopub.status.busy": "2023-01-03T19:14:29.155213Z",
     "iopub.status.idle": "2023-01-03T19:14:29.207468Z",
     "shell.execute_reply": "2023-01-03T19:14:29.206171Z"
    },
    "papermill": {
     "duration": 0.069671,
     "end_time": "2023-01-03T19:14:29.210996",
     "exception": false,
     "start_time": "2023-01-03T19:14:29.141325",
     "status": "completed"
    },
    "tags": []
   },
   "outputs": [
    {
     "name": "stdout",
     "output_type": "stream",
     "text": [
      "Accuracy Score: 0.8957507705856451\n",
      "F1_score: 0.0715686274509804\n",
      "Precision: 0.2347266881028939\n",
      "Recall: 0.042220936957779065\n",
      "Classification report:\n",
      "               precision    recall  f1-score   support\n",
      "\n",
      "       False       0.91      0.99      0.94     16439\n",
      "        True       0.23      0.04      0.07      1729\n",
      "\n",
      "    accuracy                           0.90     18168\n",
      "   macro avg       0.57      0.51      0.51     18168\n",
      "weighted avg       0.84      0.90      0.86     18168\n",
      "\n"
     ]
    }
   ],
   "source": [
    "evaluate(y_test,y_pred_knn)#f1_score and recall both dropped for kNN"
   ]
  },
  {
   "cell_type": "code",
   "execution_count": 31,
   "id": "721e4042",
   "metadata": {
    "execution": {
     "iopub.execute_input": "2023-01-03T19:14:29.239430Z",
     "iopub.status.busy": "2023-01-03T19:14:29.238525Z",
     "iopub.status.idle": "2023-01-03T19:14:29.275159Z",
     "shell.execute_reply": "2023-01-03T19:14:29.273839Z"
    },
    "papermill": {
     "duration": 0.053263,
     "end_time": "2023-01-03T19:14:29.277952",
     "exception": false,
     "start_time": "2023-01-03T19:14:29.224689",
     "status": "completed"
    },
    "tags": []
   },
   "outputs": [
    {
     "data": {
      "text/plain": [
       "array([False, False, False, ..., False, False, False])"
      ]
     },
     "execution_count": 31,
     "metadata": {},
     "output_type": "execute_result"
    }
   ],
   "source": [
    "from sklearn.naive_bayes import GaussianNB\n",
    "gnb = GaussianNB()\n",
    "y_pred_gnb = gnb.fit(X_train, y_train).predict(X_test)\n",
    "y_pred_gnb"
   ]
  },
  {
   "cell_type": "code",
   "execution_count": 32,
   "id": "4f8b55a2",
   "metadata": {
    "execution": {
     "iopub.execute_input": "2023-01-03T19:14:29.305737Z",
     "iopub.status.busy": "2023-01-03T19:14:29.304938Z",
     "iopub.status.idle": "2023-01-03T19:14:29.355726Z",
     "shell.execute_reply": "2023-01-03T19:14:29.354922Z"
    },
    "papermill": {
     "duration": 0.068266,
     "end_time": "2023-01-03T19:14:29.358962",
     "exception": false,
     "start_time": "2023-01-03T19:14:29.290696",
     "status": "completed"
    },
    "tags": []
   },
   "outputs": [
    {
     "name": "stdout",
     "output_type": "stream",
     "text": [
      "Accuracy Score: 0.9010347864376926\n",
      "F1_score: 0.07223942208462332\n",
      "Precision: 0.3349282296650718\n",
      "Recall: 0.04048582995951417\n",
      "Classification report:\n",
      "               precision    recall  f1-score   support\n",
      "\n",
      "       False       0.91      0.99      0.95     16439\n",
      "        True       0.33      0.04      0.07      1729\n",
      "\n",
      "    accuracy                           0.90     18168\n",
      "   macro avg       0.62      0.52      0.51     18168\n",
      "weighted avg       0.85      0.90      0.86     18168\n",
      "\n"
     ]
    }
   ],
   "source": [
    "evaluate(y_test,y_pred_gnb)"
   ]
  },
  {
   "cell_type": "code",
   "execution_count": 33,
   "id": "31daf6b1",
   "metadata": {
    "execution": {
     "iopub.execute_input": "2023-01-03T19:14:29.387362Z",
     "iopub.status.busy": "2023-01-03T19:14:29.386694Z",
     "iopub.status.idle": "2023-01-03T19:14:33.345369Z",
     "shell.execute_reply": "2023-01-03T19:14:33.344207Z"
    },
    "papermill": {
     "duration": 3.975381,
     "end_time": "2023-01-03T19:14:33.348140",
     "exception": false,
     "start_time": "2023-01-03T19:14:29.372759",
     "status": "completed"
    },
    "tags": []
   },
   "outputs": [],
   "source": [
    "from xgboost import XGBClassifier\n",
    "xgbc=XGBClassifier()\n",
    "y_pred_xgbc=xgbc.fit(X_train,y_train).predict(X_test)\n",
    "\n"
   ]
  },
  {
   "cell_type": "code",
   "execution_count": 34,
   "id": "8e70364e",
   "metadata": {
    "execution": {
     "iopub.execute_input": "2023-01-03T19:14:33.379696Z",
     "iopub.status.busy": "2023-01-03T19:14:33.378696Z",
     "iopub.status.idle": "2023-01-03T19:14:33.386451Z",
     "shell.execute_reply": "2023-01-03T19:14:33.385215Z"
    },
    "papermill": {
     "duration": 0.025133,
     "end_time": "2023-01-03T19:14:33.389749",
     "exception": false,
     "start_time": "2023-01-03T19:14:33.364616",
     "status": "completed"
    },
    "tags": []
   },
   "outputs": [
    {
     "data": {
      "text/plain": [
       "array([0, 0, 0, ..., 0, 1, 0])"
      ]
     },
     "execution_count": 34,
     "metadata": {},
     "output_type": "execute_result"
    }
   ],
   "source": [
    "y_pred_xgbc"
   ]
  },
  {
   "cell_type": "code",
   "execution_count": 35,
   "id": "300475eb",
   "metadata": {
    "execution": {
     "iopub.execute_input": "2023-01-03T19:14:33.417454Z",
     "iopub.status.busy": "2023-01-03T19:14:33.417060Z",
     "iopub.status.idle": "2023-01-03T19:14:33.472824Z",
     "shell.execute_reply": "2023-01-03T19:14:33.471700Z"
    },
    "papermill": {
     "duration": 0.073154,
     "end_time": "2023-01-03T19:14:33.475797",
     "exception": false,
     "start_time": "2023-01-03T19:14:33.402643",
     "status": "completed"
    },
    "tags": []
   },
   "outputs": [
    {
     "name": "stdout",
     "output_type": "stream",
     "text": [
      "Accuracy Score: 0.9183729634522237\n",
      "F1_score: 0.3654257595207531\n",
      "Precision: 0.7023026315789473\n",
      "Recall: 0.24696356275303644\n",
      "Classification report:\n",
      "               precision    recall  f1-score   support\n",
      "\n",
      "       False       0.93      0.99      0.96     16439\n",
      "        True       0.70      0.25      0.37      1729\n",
      "\n",
      "    accuracy                           0.92     18168\n",
      "   macro avg       0.81      0.62      0.66     18168\n",
      "weighted avg       0.90      0.92      0.90     18168\n",
      "\n"
     ]
    }
   ],
   "source": [
    "evaluate(y_test,y_pred_xgbc)"
   ]
  },
  {
   "cell_type": "markdown",
   "id": "6563411c",
   "metadata": {
    "papermill": {
     "duration": 0.013693,
     "end_time": "2023-01-03T19:14:33.502776",
     "exception": false,
     "start_time": "2023-01-03T19:14:33.489083",
     "status": "completed"
    },
    "tags": []
   },
   "source": [
    "**So, we deduce that the best model among the above deployed models is random forest as we have a good f1 score and recall along with precision.**"
   ]
  }
 ],
 "metadata": {
  "kernelspec": {
   "display_name": "Python 3",
   "language": "python",
   "name": "python3"
  },
  "language_info": {
   "codemirror_mode": {
    "name": "ipython",
    "version": 3
   },
   "file_extension": ".py",
   "mimetype": "text/x-python",
   "name": "python",
   "nbconvert_exporter": "python",
   "pygments_lexer": "ipython3",
   "version": "3.7.12"
  },
  "papermill": {
   "default_parameters": {},
   "duration": 32.652848,
   "end_time": "2023-01-03T19:14:34.338777",
   "environment_variables": {},
   "exception": null,
   "input_path": "__notebook__.ipynb",
   "output_path": "__notebook__.ipynb",
   "parameters": {},
   "start_time": "2023-01-03T19:14:01.685929",
   "version": "2.3.4"
  }
 },
 "nbformat": 4,
 "nbformat_minor": 5
}
